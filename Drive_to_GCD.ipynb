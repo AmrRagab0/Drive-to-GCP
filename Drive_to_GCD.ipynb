{
  "nbformat": 4,
  "nbformat_minor": 0,
  "metadata": {
    "colab": {
      "provenance": [],
      "authorship_tag": "ABX9TyNSht64zvvI0xnDLiqsoNx0",
      "include_colab_link": true
    },
    "kernelspec": {
      "name": "python3",
      "display_name": "Python 3"
    },
    "language_info": {
      "name": "python"
    }
  },
  "cells": [
    {
      "cell_type": "markdown",
      "metadata": {
        "id": "view-in-github",
        "colab_type": "text"
      },
      "source": [
        "<a href=\"https://colab.research.google.com/github/AmrRagab0/Drive-to-GCP/blob/master/Drive_to_GCD.ipynb\" target=\"_parent\"><img src=\"https://colab.research.google.com/assets/colab-badge.svg\" alt=\"Open In Colab\"/></a>"
      ]
    },
    {
      "cell_type": "code",
      "execution_count": null,
      "metadata": {
        "id": "s46Frs51LkIO",
        "colab": {
          "base_uri": "https://localhost:8080/"
        },
        "outputId": "e404b4d2-1cf7-4f50-c778-d4d9e744f4cd"
      },
      "outputs": [
        {
          "output_type": "stream",
          "name": "stdout",
          "text": [
            "Mounted at /content/drive\n"
          ]
        }
      ],
      "source": [
        "from google.colab import drive\n",
        "drive.mount('/content/drive')"
      ]
    },
    {
      "cell_type": "code",
      "source": [
        "from google.colab import auth\n",
        "auth.authenticate_user()\n",
        "project_id = 'tensile-octagon-377217'\n",
        "!gcloud config set project {project_id}\n",
        "!gsutil ls"
      ],
      "metadata": {
        "id": "3-GKw4UYMLH3"
      },
      "execution_count": null,
      "outputs": []
    },
    {
      "cell_type": "code",
      "metadata": {
        "id": "bFfQadlr0_Wy"
      },
      "source": [
        "bucket_name = 'medium_demo_bucket_190710'\n",
        "\n",
        "!gsutil -m cp -r /content/drive/My\\ Drive/Data/* gs://{bucket_name}/"
      ],
      "execution_count": null,
      "outputs": []
    }
  ]
}